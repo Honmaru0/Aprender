{
  "nbformat": 4,
  "nbformat_minor": 0,
  "metadata": {
    "colab": {
      "name": "Torpedo de plaina limadora.ipynb",
      "provenance": [],
      "authorship_tag": "ABX9TyO3Svp2I8XrQyUbAeLHhE09",
      "include_colab_link": true
    },
    "kernelspec": {
      "name": "python3",
      "display_name": "Python 3"
    }
  },
  "cells": [
    {
      "cell_type": "markdown",
      "metadata": {
        "id": "view-in-github",
        "colab_type": "text"
      },
      "source": [
        "<a href=\"https://colab.research.google.com/github/Honmaru0/Aprender/blob/master/Torpedo_de_plaina_limadora.ipynb\" target=\"_parent\"><img src=\"https://colab.research.google.com/assets/colab-badge.svg\" alt=\"Open In Colab\"/></a>"
      ]
    },
    {
      "cell_type": "markdown",
      "metadata": {
        "id": "L_nPnTgdSlDM",
        "colab_type": "text"
      },
      "source": [
        "Este item serviu para definir o local onde está a planilha de dados."
      ]
    },
    {
      "cell_type": "code",
      "metadata": {
        "id": "kBumGnf8RrFe",
        "colab_type": "code",
        "colab": {
          "base_uri": "https://localhost:8080/",
          "height": 34
        },
        "outputId": "bfb11294-05be-4d40-89c8-ea327dd41ef3"
      },
      "source": [
        "cd \"/content/sample_data\""
      ],
      "execution_count": 4,
      "outputs": [
        {
          "output_type": "stream",
          "text": [
            "/content/sample_data\n"
          ],
          "name": "stdout"
        }
      ]
    },
    {
      "cell_type": "markdown",
      "metadata": {
        "id": "ZiDu9Vy2T0Cz",
        "colab_type": "text"
      },
      "source": [
        "Aqui, precisei instalar a biblioteca celluloid, para gerar o gif."
      ]
    },
    {
      "cell_type": "code",
      "metadata": {
        "id": "KBRJlWoBS84o",
        "colab_type": "code",
        "colab": {}
      },
      "source": [
        "pip install celluloid"
      ],
      "execution_count": 0,
      "outputs": []
    },
    {
      "cell_type": "markdown",
      "metadata": {
        "id": "BP-N_IjkUAEQ",
        "colab_type": "text"
      },
      "source": [
        "Segue abaixo o código utilzado para fazer a animação:"
      ]
    },
    {
      "cell_type": "code",
      "metadata": {
        "id": "BMgdlqa-SifO",
        "colab_type": "code",
        "colab": {}
      },
      "source": [
        "import pandas as pd\n",
        "import numpy as np\n",
        "import matplotlib.pyplot as plt\n",
        "import math\n",
        "from celluloid import Camera\n",
        "data = pd.read_excel('plaina.xlsx')\n",
        "x = data.iloc[:,0].values.reshape(600,1)\n",
        "y = data.iloc[:,1].values.reshape(600,1)\n",
        "alpha = data.iloc[:,2].values.reshape(600,1)\n",
        "beta = data.iloc[:,3].values.reshape(600,1)\n",
        "theta = data.iloc[:,4].values.reshape(600,1)\n",
        "u =1.1\n",
        "v = 0.6\n",
        "w = 0.22\n",
        "a = 0.18\n",
        "b = 1\n",
        "r = 0.2\n",
        "fig = plt.figure()\n",
        "camera = Camera(fig)\n",
        "for i in range(0,600):\n",
        "    p0= [w ,0]\n",
        "    p1 =[w - a*math.cos(alpha[i,0]),a*math.sin(alpha[i,0])]\n",
        "    p2 = [0, v]\n",
        "    p3 = [r*math.cos(theta[i,0]), y[i,0]*math.cos(beta[i,0]) + a*math.sin(alpha[i,0])]\n",
        "    p4 = [x[i,0],u]\n",
        "\n",
        "    x_v = [p0[0],p1[0]]\n",
        "    y_v = [p0[1], p1[1]]\n",
        "    plt.plot(x_v,y_v, color = 'black')\n",
        "    \n",
        "    x_v = [p1[0],p4[0]]\n",
        "    y_v = [p1[1], p4[1]]\n",
        "    plt.plot(x_v,y_v, color = 'black')\n",
        "    \n",
        "    x_v = [p2[0],p3[0]]\n",
        "    y_v = [p2[1], p3[1]]\n",
        "    plt.plot(x_v,y_v, color = 'black')\n",
        "    \n",
        "    #MARCADORES\n",
        "    plt.scatter(p4[0],p4[1], color = 'red',marker = '+')\n",
        "    plt.scatter(p2[0],p2[1], color = 'red',marker = '+')\n",
        "    plt.scatter(p0[0],p0[1], color = 'red',marker = '+')\n",
        "    \n",
        "    #PLOTAR RETANGULO\n",
        "    #PARTE 1\n",
        "    \n",
        "    x_v = [p4[0]-0.05,p4[0]-0.05]\n",
        "    y_v = [p4[1]-0.05, p4[1]+0.05]\n",
        "    plt.plot(x_v,y_v, color = 'black')\n",
        "    #PARTE 2\n",
        "    x_v = [p4[0]-0.05,p4[0]+0.05]\n",
        "    y_v = [p4[1]+0.05, p4[1]+0.05]\n",
        "    plt.plot(x_v,y_v, color = 'black')\n",
        "    #PARTE 3\n",
        "    x_v = [p4[0]+0.05,p4[0]+0.05]\n",
        "    y_v = [p4[1]+0.05, p4[1]-0.05]\n",
        "    plt.plot(x_v,y_v, color = 'black')\n",
        "    #PARTE 4\n",
        "    x_v = [p4[0]-0.05,p4[0]+0.05]\n",
        "    y_v = [p4[1]-0.05, p4[1]-0.05]\n",
        "    plt.plot(x_v,y_v, color = 'black')\n",
        "    plt.xlim(-1.5, 1.5)\n",
        "    plt.ylim(-1.5,1.5)\n",
        "    plt.xlabel('x(m)')\n",
        "    plt.ylabel('y(m)')\n",
        "    plt.title(\"Simulação do torpedo da plaina limadora\")\n",
        "    camera.snap()\n",
        "animation = camera.animate() \n"
      ],
      "execution_count": 0,
      "outputs": []
    }
  ]
}